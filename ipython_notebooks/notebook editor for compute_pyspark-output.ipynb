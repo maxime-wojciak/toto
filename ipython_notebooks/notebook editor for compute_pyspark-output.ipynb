{
  "metadata": {
    "kernelspec": {
      "name": "python3",
      "display_name": "Python 3",
      "language": "python"
    },
    "associatedRecipe": "compute_pyspark-output",
    "creator": "admin",
    "createdOn": 1642499135851,
    "tags": [
      "recipe-editor"
    ],
    "customFields": {},
    "hide_input": false,
    "language_info": {
      "name": "python",
      "version": "3.6.8",
      "mimetype": "text/x-python",
      "codemirror_mode": {
        "name": "ipython",
        "version": 3
      },
      "pygments_lexer": "ipython3",
      "nbconvert_exporter": "python",
      "file_extension": ".py"
    },
    "modifiedBy": "admin"
  },
  "nbformat": 4,
  "nbformat_minor": 1,
  "cells": [
    {
      "execution_count": 0,
      "cell_type": "code",
      "metadata": {},
      "source": [
        "# -*- coding: utf-8 -*-\nimport dataiku\nfrom dataiku import spark as dkuspark\nfrom pyspark import SparkContext\nfrom pyspark.sql import SQLContext\n\nsc \u003d SparkContext.getOrCreate()\nsqlContext \u003d SQLContext(sc)\n\n# Read recipe inputs\nrows \u003d dataiku.Dataset(\"rows\")\nrows_df \u003d dkuspark.get_dataframe(sqlContext, rows)\n\n# Compute recipe outputs from inputs\n# TODO: Replace this part by your actual code that computes the output, as a SparkSQL dataframe\npyspark_output_df \u003d rows_df # For this sample code, simply copy input to output\n\n# Write recipe outputs\npyspark_output \u003d dataiku.Dataset(\"pyspark-output\")\ndkuspark.write_with_schema(pyspark_output, pyspark_output_df)"
      ],
      "outputs": [
        {
          "output_type": "stream",
          "text": "/opt/dataiku-dss-9.0.5/spark-standalone-home/python/pyspark/sql/context.py:77: DeprecationWarning: Deprecated in 3.0.0. Use SparkSession.builder.getOrCreate() instead.\n  DeprecationWarning)\n",
          "name": "stderr"
        }
      ]
    },
    {
      "execution_count": 0,
      "cell_type": "code",
      "metadata": {},
      "source": [
        ""
      ],
      "outputs": []
    }
  ]
}