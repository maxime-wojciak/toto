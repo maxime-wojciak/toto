{
  "nbformat": 4,
  "nbformat_minor": 0,
  "metadata": {
    "kernelspec": {
      "display_name": "Python 3",
      "language": "python",
      "name": "python3"
    },
    "associatedRecipe": "compute_pyspark-output",
    "creator": "admin",
    "createdOn": 1642499135851,
    "tags": [
      "recipe-editor"
    ],
    "customFields": {}
  },
  "cells": [
    {
      "cell_type": "code",
      "metadata": {},
      "outputs": [],
      "execution_count": 0,
      "source": [
        "# -*- coding: utf-8 -*-\n",
        "import dataiku\n",
        "from dataiku import spark as dkuspark\n",
        "from pyspark import SparkContext\n",
        "from pyspark.sql import SQLContext\n",
        "\n",
        "sc \u003d SparkContext.getOrCreate()\n",
        "sqlContext \u003d SQLContext(sc)\n",
        "\n",
        "# Read recipe inputs\n",
        "rows \u003d dataiku.Dataset(\"rows\")\n",
        "rows_df \u003d dkuspark.get_dataframe(sqlContext, rows)\n",
        "\n",
        "# Compute recipe outputs from inputs\n",
        "# TODO: Replace this part by your actual code that computes the output, as a SparkSQL dataframe\n",
        "pyspark_output_df \u003d rows_df # For this sample code, simply copy input to output\n",
        "\n",
        "# Write recipe outputs\n",
        "pyspark_output \u003d dataiku.Dataset(\"pyspark-output\")\n",
        "dkuspark.write_with_schema(pyspark_output, pyspark_output_df)"
      ]
    }
  ]
}